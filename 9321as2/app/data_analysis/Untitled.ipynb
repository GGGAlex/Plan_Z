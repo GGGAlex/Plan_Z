{
 "cells": [
  {
   "cell_type": "code",
   "execution_count": 28,
   "metadata": {},
   "outputs": [
    {
     "data": {
      "text/plain": [
       "'[7345,\"en\",\"There Will Be Blood\",7.9,\"USA\",\"Paul Thomas Anderson\"]'"
      ]
     },
     "execution_count": 28,
     "metadata": {},
     "output_type": "execute_result"
    }
   ],
   "source": [
    "import pandas as pd\n",
    "import json\n",
    "csv_file1 = '/home/kevin/Documents/9321/github/Plan_Z/data_analysis/tmdb_5000_movies.csv'\n",
    "csv_file2 = '/home/kevin/Documents/9321/github/Plan_Z/data_analysis/movies.csv'\n",
    "year_movie_csv = '/home/kevin/Documents/9321/github/Plan_Z/data_analysis/movie_of_year.csv'\n",
    "logging_csv = \"/home/kevin/Documents/9321/github/Plan_Z/logging.csv\"\n",
    "    # with open(logging_csv,'wb') as f:\n",
    "    #     csv_write = csv.writer(f)\n",
    "    #     csv_head = [\"IP_address\", \"Time\", \"Function\"]\n",
    "    #     csv_write.writerow(csv_head)\n",
    "df1 = pd.read_csv(csv_file1)\n",
    "df2 = pd.read_csv(csv_file2)\n",
    "    # logging_df = pd.read_csv(logging_csv)\n",
    "year_movie_df = pd.read_csv(year_movie_csv)\n",
    "   \n",
    "    #year_movie_df.set_index('release_date', inplace=True)\n",
    "\n",
    "df2.rename(columns={'name': 'title'}, inplace=True)\n",
    "df = pd.merge(df1, df2, on='title')\n",
    "df.drop(['budget_x','keywords','genres','homepage','id','original_title','rating','gross',\\\n",
    "         'budget_y','spoken_languages','runtime_y','production_companies','revenue',\\\n",
    "         'production_countries','tagline','released','votes','year','status','score',\\\n",
    "         'popularity'], axis=1, inplace=True)\n",
    "df.rename(columns={'original_language': 'language','runtime_x': 'runtime'}, inplace=True)\n",
    "df.dropna(inplace=True)\n",
    "year=2007\n",
    "best_movie = year_movie_df.copy()\n",
    "best_movie = year_movie_df.copy()\n",
    "best_movie.set_index('release_date', inplace=True)\n",
    "movie = (best_movie.loc[int(year)]).to_json(orient='records')\n",
    "        # add new movie link\n",
    "movie"
   ]
  },
  {
   "cell_type": "code",
   "execution_count": null,
   "metadata": {},
   "outputs": [],
   "source": []
  }
 ],
 "metadata": {
  "kernelspec": {
   "display_name": "Python 3",
   "language": "python",
   "name": "python3"
  },
  "language_info": {
   "codemirror_mode": {
    "name": "ipython",
    "version": 3
   },
   "file_extension": ".py",
   "mimetype": "text/x-python",
   "name": "python",
   "nbconvert_exporter": "python",
   "pygments_lexer": "ipython3",
   "version": "3.6.8"
  }
 },
 "nbformat": 4,
 "nbformat_minor": 2
}
